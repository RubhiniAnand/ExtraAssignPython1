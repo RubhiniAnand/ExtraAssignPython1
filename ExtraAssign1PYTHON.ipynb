{
 "cells": [
  {
   "cell_type": "code",
   "execution_count": 1,
   "id": "cdea20bf",
   "metadata": {},
   "outputs": [
    {
     "name": "stdout",
     "output_type": "stream",
     "text": [
      "Hope AI\n"
     ]
    }
   ],
   "source": [
    "print(\"Hope AI\")"
   ]
  },
  {
   "cell_type": "code",
   "execution_count": 1,
   "id": "7603cf43",
   "metadata": {},
   "outputs": [
    {
     "name": "stdout",
     "output_type": "stream",
     "text": [
      "Enter your institute name:Hope Artificial Intelligence\n"
     ]
    }
   ],
   "source": [
    "name=input(\"Enter your institute name:\")"
   ]
  },
  {
   "cell_type": "code",
   "execution_count": 1,
   "id": "0a10f84f",
   "metadata": {},
   "outputs": [
    {
     "name": "stdout",
     "output_type": "stream",
     "text": [
      "Enter Your Name:Rubhini\n",
      "Enter your age:28\n",
      "Enter your School name:Vivekananda\n",
      "Enter your Degree:MCA\n"
     ]
    }
   ],
   "source": [
    "name=input(\"Enter Your Name:\")\n",
    "age=int(input(\"Enter your age:\"))\n",
    "schoolName=input(\"Enter your School name:\")\n",
    "degree=input(\"Enter your Degree:\")"
   ]
  },
  {
   "cell_type": "code",
   "execution_count": 12,
   "id": "a1ae81ba",
   "metadata": {},
   "outputs": [
    {
     "name": "stdout",
     "output_type": "stream",
     "text": [
      "A:43\n",
      "B:45\n",
      "Addition: 88\n"
     ]
    }
   ],
   "source": [
    "a=int(input(\"A:\"))\n",
    "b=int(input(\"B:\"))\n",
    "print(\"Addition:\",a+b)"
   ]
  },
  {
   "cell_type": "code",
   "execution_count": 14,
   "id": "7a27d23d",
   "metadata": {},
   "outputs": [
    {
     "name": "stdout",
     "output_type": "stream",
     "text": [
      "A:54\n",
      "B:23\n",
      "Subtraction: 31\n"
     ]
    }
   ],
   "source": [
    "a=int(input(\"A:\"))\n",
    "b=int(input(\"B:\"))\n",
    "print(\"Subtraction:\",a-b)\n"
   ]
  },
  {
   "cell_type": "code",
   "execution_count": 15,
   "id": "cf709fdb",
   "metadata": {},
   "outputs": [
    {
     "name": "stdout",
     "output_type": "stream",
     "text": [
      "C:32\n",
      "D:10\n",
      "Multiplication: 320\n"
     ]
    }
   ],
   "source": [
    "c=int(input(\"C:\"))\n",
    "d=int(input(\"D:\"))\n",
    "print(\"Multiplication:\",c*d)"
   ]
  },
  {
   "cell_type": "code",
   "execution_count": 17,
   "id": "00ea0371",
   "metadata": {},
   "outputs": [
    {
     "name": "stdout",
     "output_type": "stream",
     "text": [
      "X:76\n",
      "Y:31\n",
      "Float Division: 2.4516129032258065\n"
     ]
    }
   ],
   "source": [
    "x=int(input(\"X:\"))\n",
    "y=int(input(\"Y:\"))\n",
    "print(\"Float Division:\",x/y)"
   ]
  },
  {
   "cell_type": "code",
   "execution_count": 18,
   "id": "5d0219b3",
   "metadata": {},
   "outputs": [
    {
     "name": "stdout",
     "output_type": "stream",
     "text": [
      "X:75\n",
      "Y:14\n",
      "Floor Division: 5\n"
     ]
    }
   ],
   "source": [
    "x=int(input(\"X:\"))\n",
    "y=int(input(\"Y:\"))\n",
    "print(\"Floor Division:\",x//y)"
   ]
  },
  {
   "cell_type": "code",
   "execution_count": 19,
   "id": "13ebe54e",
   "metadata": {},
   "outputs": [
    {
     "name": "stdout",
     "output_type": "stream",
     "text": [
      "A:56\n",
      "B:20\n",
      "Modulo: 16\n"
     ]
    }
   ],
   "source": [
    "a=int(input(\"A:\"))\n",
    "b=int(input(\"B:\"))\n",
    "print(\"Modulo:\",a%b)"
   ]
  },
  {
   "cell_type": "code",
   "execution_count": 20,
   "id": "102e2704",
   "metadata": {},
   "outputs": [
    {
     "name": "stdout",
     "output_type": "stream",
     "text": [
      "X:5\n",
      "Y:4\n",
      "Power: 625\n"
     ]
    }
   ],
   "source": [
    "x=int(input(\"X:\"))\n",
    "y=int(input(\"Y:\"))\n",
    "print(\"Power:\",x**y)"
   ]
  },
  {
   "cell_type": "code",
   "execution_count": null,
   "id": "9b903125",
   "metadata": {},
   "outputs": [],
   "source": []
  },
  {
   "cell_type": "code",
   "execution_count": null,
   "id": "d0dfa521",
   "metadata": {},
   "outputs": [],
   "source": []
  }
 ],
 "metadata": {
  "kernelspec": {
   "display_name": "Python 3 (ipykernel)",
   "language": "python",
   "name": "python3"
  },
  "language_info": {
   "codemirror_mode": {
    "name": "ipython",
    "version": 3
   },
   "file_extension": ".py",
   "mimetype": "text/x-python",
   "name": "python",
   "nbconvert_exporter": "python",
   "pygments_lexer": "ipython3",
   "version": "3.11.4"
  }
 },
 "nbformat": 4,
 "nbformat_minor": 5
}
